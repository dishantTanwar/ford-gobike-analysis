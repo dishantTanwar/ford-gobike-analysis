{
 "cells": [
  {
   "cell_type": "markdown",
   "metadata": {},
   "source": [
    "# Ford GoBike Data - Exploratory Analysis\n",
    "\n",
    "## by Dishant Tanwar\n",
    "\n",
    "## Preliminary Wrangling\n",
    "\n",
    "> Ford GoBike is a subscription based bike rental service, starting at just $2 per ride. Two blocks or two miles, bikes are a fun and affordable way to get around.\n",
    "\n",
    "> We're going to explore some interesting facts and trends regarding this bike sharing giant for Year `2019`"
   ]
  },
  {
   "cell_type": "markdown",
   "metadata": {},
   "source": [
    "### The Data  \n",
    "Each trip is anonymized and includes:\n",
    "\n",
    "- Trip Duration (seconds)\n",
    "- Start Time and Date\n",
    "- End Time and Date\n",
    "- Start Station ID\n",
    "- Start Station Name\n",
    "- Start Station Latitude\n",
    "- Start Station Longitude\n",
    "- End Station ID\n",
    "- End Station Name\n",
    "- End Station Latitude\n",
    "- End Station Longitude\n",
    "- Bike ID\n",
    "- User Type (Subscriber or Customer – “Subscriber” = Member or “Customer” = Casual)"
   ]
  },
  {
   "cell_type": "code",
   "execution_count": 4,
   "metadata": {},
   "outputs": [],
   "source": [
    "# import all packages and set plots to be embedded inline\n",
    "import matplotlib.pyplot as plt\n",
    "\n",
    "from zipfile import ZipFile\n",
    "from io import BytesIO\n",
    "\n",
    "import numpy as np\n",
    "import pandas as pd\n",
    "import seaborn as sns\n",
    "\n",
    "import requests\n",
    "import time\n",
    "import os\n",
    "\n",
    "%matplotlib inline"
   ]
  },
  {
   "cell_type": "markdown",
   "metadata": {},
   "source": [
    "## Gather Data\n",
    "> Load in your dataset and describe its properties through the questions below.\n",
    "Try and motivate your exploration goals through this section."
   ]
  },
  {
   "cell_type": "code",
   "execution_count": 7,
   "metadata": {},
   "outputs": [
    {
     "data": {
      "text/plain": [
       "13"
      ]
     },
     "execution_count": 7,
     "metadata": {},
     "output_type": "execute_result"
    }
   ],
   "source": [
    "req_cols = ['duration_sec', 'start_time', 'end_time', 'start_station_id',\n",
    "       'start_station_name', 'start_station_latitude',\n",
    "       'start_station_longitude', 'end_station_id', 'end_station_name',\n",
    "       'end_station_latitude', 'end_station_longitude', 'bike_id', 'user_type']\n",
    "len(req_cols)"
   ]
  },
  {
   "cell_type": "code",
   "execution_count": 59,
   "metadata": {},
   "outputs": [],
   "source": [
    "# Gather each month's data for 2019 \n",
    "urls = ['https://s3.amazonaws.com/baywheels-data/201901-fordgobike-tripdata.csv.zip',\n",
    "       'https://s3.amazonaws.com/baywheels-data/201902-fordgobike-tripdata.csv.zip',\n",
    "        'https://s3.amazonaws.com/baywheels-data/201903-fordgobike-tripdata.csv.zip',\n",
    "        'https://s3.amazonaws.com/baywheels-data/201904-fordgobike-tripdata.csv.zip',\n",
    "        'https://s3.amazonaws.com/baywheels-data/201905-baywheels-tripdata.csv.zip',\n",
    "        'https://s3.amazonaws.com/baywheels-data/201906-baywheels-tripdata.csv.zip',\n",
    "        'https://s3.amazonaws.com/baywheels-data/201907-baywheels-tripdata.csv.zip',\n",
    "        'https://s3.amazonaws.com/baywheels-data/201908-baywheels-tripdata.csv.zip',\n",
    "        'https://s3.amazonaws.com/baywheels-data/201909-baywheels-tripdata.csv.zip',\n",
    "        'https://s3.amazonaws.com/baywheels-data/201910-baywheels-tripdata.csv.zip',\n",
    "        'https://s3.amazonaws.com/baywheels-data/201911-baywheels-tripdata.csv.zip',\n",
    "        'https://s3.amazonaws.com/baywheels-data/201912-baywheels-tripdata.csv.zip'\n",
    "       ]\n",
    "for url in urls:\n",
    "    response = requests.get(url)\n",
    "    zip_file = ZipFile(BytesIO(response.content))\n",
    "    zip_file.extractall('ford-gobike-trip-data-2019')"
   ]
  },
  {
   "cell_type": "code",
   "execution_count": 2,
   "metadata": {
    "scrolled": true
   },
   "outputs": [
    {
     "name": "stderr",
     "output_type": "stream",
     "text": [
      "E:\\InstalledPrograms\\Anaconda3\\lib\\site-packages\\IPython\\core\\interactiveshell.py:3020: DtypeWarning: Columns (14) have mixed types. Specify dtype option on import or set low_memory=False.\n",
      "  interactivity=interactivity, compiler=compiler, result=result)\n",
      "E:\\InstalledPrograms\\Anaconda3\\lib\\site-packages\\IPython\\core\\interactiveshell.py:3020: DtypeWarning: Columns (13,14) have mixed types. Specify dtype option on import or set low_memory=False.\n",
      "  interactivity=interactivity, compiler=compiler, result=result)\n",
      "E:\\InstalledPrograms\\Anaconda3\\lib\\site-packages\\IPython\\core\\interactiveshell.py:3020: DtypeWarning: Columns (13) have mixed types. Specify dtype option on import or set low_memory=False.\n",
      "  interactivity=interactivity, compiler=compiler, result=result)\n"
     ]
    }
   ],
   "source": [
    "# Read all data files seprately and storing in a list\n",
    "path = r'ford-gobike-trip-data-2019'\n",
    "month_wise_dfs = []\n",
    "\n",
    "for file in os.listdir(path):\n",
    "    month_wise_dfs.append(pd.read_csv(path + '/' + file, ))    "
   ]
  },
  {
   "cell_type": "code",
   "execution_count": 4,
   "metadata": {},
   "outputs": [
    {
     "name": "stdout",
     "output_type": "stream",
     "text": [
      "Some have different columns\n"
     ]
    }
   ],
   "source": [
    "# Check if all columns have same names\n",
    "if all([set(month_wise_dfs[0].columns) == set(df.columns) for df in month_wise_dfs[0:6]]):\n",
    "    print('All have the same columns')\n",
    "else:\n",
    "    print('Some have different columns')"
   ]
  },
  {
   "cell_type": "markdown",
   "metadata": {},
   "source": [
    "Since we have some integrety issues with column names, we'll only get the columns we are interested in. Which are described in the start."
   ]
  },
  {
   "cell_type": "code",
   "execution_count": 8,
   "metadata": {},
   "outputs": [],
   "source": [
    "# Selecting only the reqiured columns\n",
    "new_month_wise_dfs = []\n",
    "for df in month_wise_dfs:\n",
    "    new_month_wise_dfs.append(df[req_cols])"
   ]
  },
  {
   "cell_type": "code",
   "execution_count": 9,
   "metadata": {},
   "outputs": [
    {
     "name": "stdout",
     "output_type": "stream",
     "text": [
      "All have the same columns\n"
     ]
    }
   ],
   "source": [
    "# Check if all columns have same names\n",
    "if all([set(new_month_wise_dfs[0].columns) == set(df.columns) for df in new_month_wise_dfs]):\n",
    "    print('All have the same columns')\n",
    "else:\n",
    "    print('Some have different columns')"
   ]
  },
  {
   "cell_type": "code",
   "execution_count": 10,
   "metadata": {
    "scrolled": true
   },
   "outputs": [
    {
     "data": {
      "text/html": [
       "<div>\n",
       "<style scoped>\n",
       "    .dataframe tbody tr th:only-of-type {\n",
       "        vertical-align: middle;\n",
       "    }\n",
       "\n",
       "    .dataframe tbody tr th {\n",
       "        vertical-align: top;\n",
       "    }\n",
       "\n",
       "    .dataframe thead th {\n",
       "        text-align: right;\n",
       "    }\n",
       "</style>\n",
       "<table border=\"1\" class=\"dataframe\">\n",
       "  <thead>\n",
       "    <tr style=\"text-align: right;\">\n",
       "      <th></th>\n",
       "      <th>duration_sec</th>\n",
       "      <th>start_time</th>\n",
       "      <th>end_time</th>\n",
       "      <th>start_station_id</th>\n",
       "      <th>start_station_name</th>\n",
       "      <th>start_station_latitude</th>\n",
       "      <th>start_station_longitude</th>\n",
       "      <th>end_station_id</th>\n",
       "      <th>end_station_name</th>\n",
       "      <th>end_station_latitude</th>\n",
       "      <th>end_station_longitude</th>\n",
       "      <th>bike_id</th>\n",
       "      <th>user_type</th>\n",
       "    </tr>\n",
       "  </thead>\n",
       "  <tbody>\n",
       "    <tr>\n",
       "      <th>0</th>\n",
       "      <td>80825</td>\n",
       "      <td>2019-01-31 17:57:44.6130</td>\n",
       "      <td>2019-02-01 16:24:49.8640</td>\n",
       "      <td>229.0</td>\n",
       "      <td>Foothill Blvd at 42nd Ave</td>\n",
       "      <td>37.775745</td>\n",
       "      <td>-122.213037</td>\n",
       "      <td>196.0</td>\n",
       "      <td>Grand Ave at Perkins St</td>\n",
       "      <td>37.808894</td>\n",
       "      <td>-122.256460</td>\n",
       "      <td>4861</td>\n",
       "      <td>Subscriber</td>\n",
       "    </tr>\n",
       "    <tr>\n",
       "      <th>1</th>\n",
       "      <td>65900</td>\n",
       "      <td>2019-01-31 20:58:33.8860</td>\n",
       "      <td>2019-02-01 15:16:54.1730</td>\n",
       "      <td>4.0</td>\n",
       "      <td>Cyril Magnin St at Ellis St</td>\n",
       "      <td>37.785881</td>\n",
       "      <td>-122.408915</td>\n",
       "      <td>134.0</td>\n",
       "      <td>Valencia St at 24th St</td>\n",
       "      <td>37.752428</td>\n",
       "      <td>-122.420628</td>\n",
       "      <td>5506</td>\n",
       "      <td>Subscriber</td>\n",
       "    </tr>\n",
       "    <tr>\n",
       "      <th>2</th>\n",
       "      <td>62633</td>\n",
       "      <td>2019-01-31 18:06:52.9240</td>\n",
       "      <td>2019-02-01 11:30:46.5300</td>\n",
       "      <td>245.0</td>\n",
       "      <td>Downtown Berkeley BART</td>\n",
       "      <td>37.870139</td>\n",
       "      <td>-122.268422</td>\n",
       "      <td>157.0</td>\n",
       "      <td>65th St at Hollis St</td>\n",
       "      <td>37.846784</td>\n",
       "      <td>-122.291376</td>\n",
       "      <td>2717</td>\n",
       "      <td>Customer</td>\n",
       "    </tr>\n",
       "    <tr>\n",
       "      <th>3</th>\n",
       "      <td>44680</td>\n",
       "      <td>2019-01-31 19:46:09.7190</td>\n",
       "      <td>2019-02-01 08:10:50.3180</td>\n",
       "      <td>85.0</td>\n",
       "      <td>Church St at Duboce Ave</td>\n",
       "      <td>37.770083</td>\n",
       "      <td>-122.429156</td>\n",
       "      <td>53.0</td>\n",
       "      <td>Grove St at Divisadero</td>\n",
       "      <td>37.775946</td>\n",
       "      <td>-122.437777</td>\n",
       "      <td>4557</td>\n",
       "      <td>Customer</td>\n",
       "    </tr>\n",
       "    <tr>\n",
       "      <th>4</th>\n",
       "      <td>60709</td>\n",
       "      <td>2019-01-31 14:19:01.5410</td>\n",
       "      <td>2019-02-01 07:10:51.0650</td>\n",
       "      <td>16.0</td>\n",
       "      <td>Steuart St at Market St</td>\n",
       "      <td>37.794130</td>\n",
       "      <td>-122.394430</td>\n",
       "      <td>28.0</td>\n",
       "      <td>The Embarcadero at Bryant St</td>\n",
       "      <td>37.787168</td>\n",
       "      <td>-122.388098</td>\n",
       "      <td>2100</td>\n",
       "      <td>Customer</td>\n",
       "    </tr>\n",
       "  </tbody>\n",
       "</table>\n",
       "</div>"
      ],
      "text/plain": [
       "   duration_sec                start_time                  end_time  \\\n",
       "0         80825  2019-01-31 17:57:44.6130  2019-02-01 16:24:49.8640   \n",
       "1         65900  2019-01-31 20:58:33.8860  2019-02-01 15:16:54.1730   \n",
       "2         62633  2019-01-31 18:06:52.9240  2019-02-01 11:30:46.5300   \n",
       "3         44680  2019-01-31 19:46:09.7190  2019-02-01 08:10:50.3180   \n",
       "4         60709  2019-01-31 14:19:01.5410  2019-02-01 07:10:51.0650   \n",
       "\n",
       "   start_station_id           start_station_name  start_station_latitude  \\\n",
       "0             229.0    Foothill Blvd at 42nd Ave               37.775745   \n",
       "1               4.0  Cyril Magnin St at Ellis St               37.785881   \n",
       "2             245.0       Downtown Berkeley BART               37.870139   \n",
       "3              85.0      Church St at Duboce Ave               37.770083   \n",
       "4              16.0      Steuart St at Market St               37.794130   \n",
       "\n",
       "   start_station_longitude  end_station_id              end_station_name  \\\n",
       "0              -122.213037           196.0       Grand Ave at Perkins St   \n",
       "1              -122.408915           134.0        Valencia St at 24th St   \n",
       "2              -122.268422           157.0          65th St at Hollis St   \n",
       "3              -122.429156            53.0        Grove St at Divisadero   \n",
       "4              -122.394430            28.0  The Embarcadero at Bryant St   \n",
       "\n",
       "   end_station_latitude  end_station_longitude  bike_id   user_type  \n",
       "0             37.808894            -122.256460     4861  Subscriber  \n",
       "1             37.752428            -122.420628     5506  Subscriber  \n",
       "2             37.846784            -122.291376     2717    Customer  \n",
       "3             37.775946            -122.437777     4557    Customer  \n",
       "4             37.787168            -122.388098     2100    Customer  "
      ]
     },
     "execution_count": 10,
     "metadata": {},
     "output_type": "execute_result"
    }
   ],
   "source": [
    "# Concatinate all data frames into one\n",
    "master_df = pd.concat(new_month_wise_dfs)\n",
    "master_df.head()"
   ]
  },
  {
   "cell_type": "markdown",
   "metadata": {},
   "source": [
    "### Inspect master_df for Issues"
   ]
  },
  {
   "cell_type": "code",
   "execution_count": 11,
   "metadata": {
    "scrolled": true
   },
   "outputs": [
    {
     "name": "stdout",
     "output_type": "stream",
     "text": [
      "<class 'pandas.core.frame.DataFrame'>\n",
      "Int64Index: 2506983 entries, 0 to 150101\n",
      "Data columns (total 13 columns):\n",
      "duration_sec               2506983 non-null int64\n",
      "start_time                 2506983 non-null object\n",
      "end_time                   2506983 non-null object\n",
      "start_station_id           2426249 non-null float64\n",
      "start_station_name         2426850 non-null object\n",
      "start_station_latitude     2506983 non-null float64\n",
      "start_station_longitude    2506983 non-null float64\n",
      "end_station_id             2424081 non-null float64\n",
      "end_station_name           2424633 non-null object\n",
      "end_station_latitude       2506983 non-null float64\n",
      "end_station_longitude      2506983 non-null float64\n",
      "bike_id                    2506983 non-null int64\n",
      "user_type                  2506983 non-null object\n",
      "dtypes: float64(6), int64(2), object(5)\n",
      "memory usage: 267.8+ MB\n"
     ]
    }
   ],
   "source": [
    "master_df.info(null_counts=True)"
   ]
  },
  {
   "cell_type": "code",
   "execution_count": 12,
   "metadata": {},
   "outputs": [
    {
     "data": {
      "text/plain": [
       "0"
      ]
     },
     "execution_count": 12,
     "metadata": {},
     "output_type": "execute_result"
    }
   ],
   "source": [
    "master_df.duplicated().sum()"
   ]
  },
  {
   "cell_type": "code",
   "execution_count": 13,
   "metadata": {},
   "outputs": [
    {
     "data": {
      "text/plain": [
       "duration_sec                   0\n",
       "start_time                     0\n",
       "end_time                       0\n",
       "start_station_id           80734\n",
       "start_station_name         80133\n",
       "start_station_latitude         0\n",
       "start_station_longitude        0\n",
       "end_station_id             82902\n",
       "end_station_name           82350\n",
       "end_station_latitude           0\n",
       "end_station_longitude          0\n",
       "bike_id                        0\n",
       "user_type                      0\n",
       "dtype: int64"
      ]
     },
     "execution_count": 13,
     "metadata": {},
     "output_type": "execute_result"
    }
   ],
   "source": [
    "master_df.isna().sum()"
   ]
  },
  {
   "cell_type": "code",
   "execution_count": 314,
   "metadata": {},
   "outputs": [
    {
     "data": {
      "text/plain": [
       "array(['2019'], dtype=object)"
      ]
     },
     "execution_count": 314,
     "metadata": {},
     "output_type": "execute_result"
    }
   ],
   "source": [
    "# Dataset for which Year ?\n",
    "y = master_df.start_time.apply(lambda x: x.split('-')[0])\n",
    "np.sort(y.unique())"
   ]
  },
  {
   "cell_type": "code",
   "execution_count": 315,
   "metadata": {},
   "outputs": [
    {
     "data": {
      "text/plain": [
       "array(['01', '02', '03', '04', '05', '06', '07', '08', '09', '10', '11',\n",
       "       '12'], dtype=object)"
      ]
     },
     "execution_count": 315,
     "metadata": {},
     "output_type": "execute_result"
    }
   ],
   "source": [
    "# Months Available\n",
    "y = master_df.start_time.apply(lambda x: x.split('-')[1])\n",
    "np.sort(y.unique())"
   ]
  },
  {
   "cell_type": "markdown",
   "metadata": {},
   "source": [
    "### Quality Issues"
   ]
  },
  {
   "cell_type": "markdown",
   "metadata": {},
   "source": [
    "The Dataset seem good. \n",
    " 1. We've a number of null values for `start` and `end` `station names and ids`. Let's `drop` these  observations.\n",
    " - `Drop` start_station and end_station's `longitude` and `latitude` columns.\n",
    " - Incorrect Data Types : ex.`start_time, end_time` should be in `timestamp` format. "
   ]
  },
  {
   "cell_type": "markdown",
   "metadata": {},
   "source": [
    "**#1 Define**\n",
    "> Drop null valued observations."
   ]
  },
  {
   "cell_type": "markdown",
   "metadata": {},
   "source": [
    "**Code**"
   ]
  },
  {
   "cell_type": "code",
   "execution_count": 14,
   "metadata": {},
   "outputs": [],
   "source": [
    "master_df.dropna(inplace = True)"
   ]
  },
  {
   "cell_type": "markdown",
   "metadata": {},
   "source": [
    "**Test**"
   ]
  },
  {
   "cell_type": "code",
   "execution_count": 15,
   "metadata": {},
   "outputs": [
    {
     "data": {
      "text/plain": [
       "duration_sec               0\n",
       "start_time                 0\n",
       "end_time                   0\n",
       "start_station_id           0\n",
       "start_station_name         0\n",
       "start_station_latitude     0\n",
       "start_station_longitude    0\n",
       "end_station_id             0\n",
       "end_station_name           0\n",
       "end_station_latitude       0\n",
       "end_station_longitude      0\n",
       "bike_id                    0\n",
       "user_type                  0\n",
       "dtype: int64"
      ]
     },
     "execution_count": 15,
     "metadata": {},
     "output_type": "execute_result"
    }
   ],
   "source": [
    "master_df.isnull().sum()"
   ]
  },
  {
   "cell_type": "markdown",
   "metadata": {},
   "source": [
    "**#3 Define**\n",
    "> Incorrect Data Types\n",
    "- `start_time, end_time` should be in `timestamp` format.\n",
    "- start, end station ids should be `str`\n",
    "- `user_type` shoulde be a category"
   ]
  },
  {
   "cell_type": "markdown",
   "metadata": {},
   "source": [
    "**Code**"
   ]
  },
  {
   "cell_type": "code",
   "execution_count": 17,
   "metadata": {},
   "outputs": [],
   "source": [
    "master_df['start_time'] = pd.to_datetime(master_df['start_time'])\n",
    "master_df['end_time'] = pd.to_datetime(master_df['end_time'])\n",
    "\n",
    "master_df['start_station_id'] = master_df['start_station_id'].astype('str')\n",
    "master_df['end_station_id'] = master_df['end_station_id'].astype('str')\n",
    "master_df['bike_id'] = master_df['bike_id'].astype('str')\n",
    "\n",
    "master_df['user_type'] = master_df['user_type'].astype('category')"
   ]
  },
  {
   "cell_type": "markdown",
   "metadata": {},
   "source": [
    "**Test**"
   ]
  },
  {
   "cell_type": "code",
   "execution_count": 18,
   "metadata": {},
   "outputs": [
    {
     "name": "stdout",
     "output_type": "stream",
     "text": [
      "<class 'pandas.core.frame.DataFrame'>\n",
      "Int64Index: 2407259 entries, 0 to 149779\n",
      "Data columns (total 13 columns):\n",
      "duration_sec               2407259 non-null int64\n",
      "start_time                 2407259 non-null datetime64[ns]\n",
      "end_time                   2407259 non-null datetime64[ns]\n",
      "start_station_id           2407259 non-null object\n",
      "start_station_name         2407259 non-null object\n",
      "start_station_latitude     2407259 non-null float64\n",
      "start_station_longitude    2407259 non-null float64\n",
      "end_station_id             2407259 non-null object\n",
      "end_station_name           2407259 non-null object\n",
      "end_station_latitude       2407259 non-null float64\n",
      "end_station_longitude      2407259 non-null float64\n",
      "bike_id                    2407259 non-null object\n",
      "user_type                  2407259 non-null category\n",
      "dtypes: category(1), datetime64[ns](2), float64(4), int64(1), object(5)\n",
      "memory usage: 241.1+ MB\n"
     ]
    }
   ],
   "source": [
    "master_df.info(null_counts=True)"
   ]
  },
  {
   "cell_type": "markdown",
   "metadata": {},
   "source": [
    "## Data Analysis"
   ]
  },
  {
   "cell_type": "code",
   "execution_count": 20,
   "metadata": {
    "scrolled": true
   },
   "outputs": [
    {
     "data": {
      "text/html": [
       "<div>\n",
       "<style scoped>\n",
       "    .dataframe tbody tr th:only-of-type {\n",
       "        vertical-align: middle;\n",
       "    }\n",
       "\n",
       "    .dataframe tbody tr th {\n",
       "        vertical-align: top;\n",
       "    }\n",
       "\n",
       "    .dataframe thead th {\n",
       "        text-align: right;\n",
       "    }\n",
       "</style>\n",
       "<table border=\"1\" class=\"dataframe\">\n",
       "  <thead>\n",
       "    <tr style=\"text-align: right;\">\n",
       "      <th></th>\n",
       "      <th>duration_sec</th>\n",
       "      <th>start_time</th>\n",
       "      <th>end_time</th>\n",
       "      <th>start_station_id</th>\n",
       "      <th>start_station_name</th>\n",
       "      <th>start_station_latitude</th>\n",
       "      <th>start_station_longitude</th>\n",
       "      <th>end_station_id</th>\n",
       "      <th>end_station_name</th>\n",
       "      <th>end_station_latitude</th>\n",
       "      <th>end_station_longitude</th>\n",
       "      <th>bike_id</th>\n",
       "      <th>user_type</th>\n",
       "    </tr>\n",
       "  </thead>\n",
       "  <tbody>\n",
       "    <tr>\n",
       "      <th>0</th>\n",
       "      <td>80825</td>\n",
       "      <td>2019-01-31 17:57:44.613</td>\n",
       "      <td>2019-02-01 16:24:49.864</td>\n",
       "      <td>229.0</td>\n",
       "      <td>Foothill Blvd at 42nd Ave</td>\n",
       "      <td>37.775745</td>\n",
       "      <td>-122.213037</td>\n",
       "      <td>196.0</td>\n",
       "      <td>Grand Ave at Perkins St</td>\n",
       "      <td>37.808894</td>\n",
       "      <td>-122.256460</td>\n",
       "      <td>4861</td>\n",
       "      <td>Subscriber</td>\n",
       "    </tr>\n",
       "    <tr>\n",
       "      <th>1</th>\n",
       "      <td>65900</td>\n",
       "      <td>2019-01-31 20:58:33.886</td>\n",
       "      <td>2019-02-01 15:16:54.173</td>\n",
       "      <td>4.0</td>\n",
       "      <td>Cyril Magnin St at Ellis St</td>\n",
       "      <td>37.785881</td>\n",
       "      <td>-122.408915</td>\n",
       "      <td>134.0</td>\n",
       "      <td>Valencia St at 24th St</td>\n",
       "      <td>37.752428</td>\n",
       "      <td>-122.420628</td>\n",
       "      <td>5506</td>\n",
       "      <td>Subscriber</td>\n",
       "    </tr>\n",
       "    <tr>\n",
       "      <th>2</th>\n",
       "      <td>62633</td>\n",
       "      <td>2019-01-31 18:06:52.924</td>\n",
       "      <td>2019-02-01 11:30:46.530</td>\n",
       "      <td>245.0</td>\n",
       "      <td>Downtown Berkeley BART</td>\n",
       "      <td>37.870139</td>\n",
       "      <td>-122.268422</td>\n",
       "      <td>157.0</td>\n",
       "      <td>65th St at Hollis St</td>\n",
       "      <td>37.846784</td>\n",
       "      <td>-122.291376</td>\n",
       "      <td>2717</td>\n",
       "      <td>Customer</td>\n",
       "    </tr>\n",
       "    <tr>\n",
       "      <th>3</th>\n",
       "      <td>44680</td>\n",
       "      <td>2019-01-31 19:46:09.719</td>\n",
       "      <td>2019-02-01 08:10:50.318</td>\n",
       "      <td>85.0</td>\n",
       "      <td>Church St at Duboce Ave</td>\n",
       "      <td>37.770083</td>\n",
       "      <td>-122.429156</td>\n",
       "      <td>53.0</td>\n",
       "      <td>Grove St at Divisadero</td>\n",
       "      <td>37.775946</td>\n",
       "      <td>-122.437777</td>\n",
       "      <td>4557</td>\n",
       "      <td>Customer</td>\n",
       "    </tr>\n",
       "    <tr>\n",
       "      <th>4</th>\n",
       "      <td>60709</td>\n",
       "      <td>2019-01-31 14:19:01.541</td>\n",
       "      <td>2019-02-01 07:10:51.065</td>\n",
       "      <td>16.0</td>\n",
       "      <td>Steuart St at Market St</td>\n",
       "      <td>37.794130</td>\n",
       "      <td>-122.394430</td>\n",
       "      <td>28.0</td>\n",
       "      <td>The Embarcadero at Bryant St</td>\n",
       "      <td>37.787168</td>\n",
       "      <td>-122.388098</td>\n",
       "      <td>2100</td>\n",
       "      <td>Customer</td>\n",
       "    </tr>\n",
       "  </tbody>\n",
       "</table>\n",
       "</div>"
      ],
      "text/plain": [
       "   duration_sec              start_time                end_time  \\\n",
       "0         80825 2019-01-31 17:57:44.613 2019-02-01 16:24:49.864   \n",
       "1         65900 2019-01-31 20:58:33.886 2019-02-01 15:16:54.173   \n",
       "2         62633 2019-01-31 18:06:52.924 2019-02-01 11:30:46.530   \n",
       "3         44680 2019-01-31 19:46:09.719 2019-02-01 08:10:50.318   \n",
       "4         60709 2019-01-31 14:19:01.541 2019-02-01 07:10:51.065   \n",
       "\n",
       "  start_station_id           start_station_name  start_station_latitude  \\\n",
       "0            229.0    Foothill Blvd at 42nd Ave               37.775745   \n",
       "1              4.0  Cyril Magnin St at Ellis St               37.785881   \n",
       "2            245.0       Downtown Berkeley BART               37.870139   \n",
       "3             85.0      Church St at Duboce Ave               37.770083   \n",
       "4             16.0      Steuart St at Market St               37.794130   \n",
       "\n",
       "   start_station_longitude end_station_id              end_station_name  \\\n",
       "0              -122.213037          196.0       Grand Ave at Perkins St   \n",
       "1              -122.408915          134.0        Valencia St at 24th St   \n",
       "2              -122.268422          157.0          65th St at Hollis St   \n",
       "3              -122.429156           53.0        Grove St at Divisadero   \n",
       "4              -122.394430           28.0  The Embarcadero at Bryant St   \n",
       "\n",
       "   end_station_latitude  end_station_longitude bike_id   user_type  \n",
       "0             37.808894            -122.256460    4861  Subscriber  \n",
       "1             37.752428            -122.420628    5506  Subscriber  \n",
       "2             37.846784            -122.291376    2717    Customer  \n",
       "3             37.775946            -122.437777    4557    Customer  \n",
       "4             37.787168            -122.388098    2100    Customer  "
      ]
     },
     "execution_count": 20,
     "metadata": {},
     "output_type": "execute_result"
    }
   ],
   "source": [
    "master_df.head()"
   ]
  },
  {
   "cell_type": "markdown",
   "metadata": {},
   "source": [
    "**Let's create more columns**\n",
    ">1. **displacement**: displacement in miles from start to end station\n",
    "- **duration_min** : Ride Time in minutes\n",
    "- **month** : Bike issued month\n",
    "- **day** : Bike issued Day"
   ]
  },
  {
   "cell_type": "markdown",
   "metadata": {},
   "source": [
    "**#1 Define**\n",
    "> create column **displacement** : displacement in miles from start to end station"
   ]
  },
  {
   "cell_type": "markdown",
   "metadata": {},
   "source": [
    "**Code**"
   ]
  },
  {
   "cell_type": "code",
   "execution_count": 21,
   "metadata": {},
   "outputs": [],
   "source": [
    "from math import cos, asin, sqrt, pi\n",
    "\n",
    "def displacement(row):\n",
    "    lat1 = row.start_station_latitude\n",
    "    lon1 = row.start_station_longitude\n",
    "    lat2 = row.end_station_latitude\n",
    "    lon2 = row.end_station_longitude\n",
    "    p = pi/180\n",
    "    a = 0.5 - np.cos((lat2-lat1)*p)/2 + np.cos(lat1*p) * np.cos(lat2*p) * (1-np.cos((lon2-lon1)*p))/2\n",
    "    return 12742 * np.arcsin(np.sqrt(a))"
   ]
  },
  {
   "cell_type": "code",
   "execution_count": 22,
   "metadata": {},
   "outputs": [
    {
     "name": "stdout",
     "output_type": "stream",
     "text": [
      "Total Time Taken (min) 4.6530083576838175\n"
     ]
    }
   ],
   "source": [
    "start = time.time()\n",
    "master_df['displacement'] = master_df.apply(lambda row: displacement(row), axis=1)\n",
    "end = time.time()\n",
    "print('Total Time Taken (min)', (end - start)/60)"
   ]
  },
  {
   "cell_type": "markdown",
   "metadata": {},
   "source": [
    "**#1.1 Define** \n",
    "> `Drop` start_station and end_station's `longitude` and `latitude` columns."
   ]
  },
  {
   "cell_type": "markdown",
   "metadata": {},
   "source": [
    "**Code**"
   ]
  },
  {
   "cell_type": "code",
   "execution_count": 23,
   "metadata": {},
   "outputs": [
    {
     "name": "stdout",
     "output_type": "stream",
     "text": [
      "Done\n"
     ]
    }
   ],
   "source": [
    "to_drop = ['start_station_latitude', 'start_station_longitude','end_station_latitude', 'end_station_longitude']\n",
    "master_df.drop(to_drop, axis = 1, inplace = True)\n",
    "print('Done')"
   ]
  },
  {
   "cell_type": "markdown",
   "metadata": {},
   "source": [
    "**Test**"
   ]
  },
  {
   "cell_type": "code",
   "execution_count": 40,
   "metadata": {},
   "outputs": [
    {
     "name": "stdout",
     "output_type": "stream",
     "text": [
      "<class 'pandas.core.frame.DataFrame'>\n",
      "Int64Index: 2407259 entries, 0 to 149779\n",
      "Data columns (total 15 columns):\n",
      "duration_sec          2407259 non-null int64\n",
      "start_time            2407259 non-null datetime64[ns]\n",
      "end_time              2407259 non-null datetime64[ns]\n",
      "start_station_id      2407259 non-null object\n",
      "start_station_name    2407259 non-null object\n",
      "end_station_id        2407259 non-null object\n",
      "end_station_name      2407259 non-null object\n",
      "bike_id               2407259 non-null object\n",
      "user_type             2407259 non-null category\n",
      "displacement          2407259 non-null float64\n",
      "duration_mins         2407259 non-null float64\n",
      "month                 2407259 non-null category\n",
      "day                   2407259 non-null int64\n",
      "hour                  2407259 non-null int64\n",
      "weekday               2407259 non-null category\n",
      "dtypes: category(3), datetime64[ns](2), float64(2), int64(3), object(5)\n",
      "memory usage: 245.6+ MB\n"
     ]
    }
   ],
   "source": [
    "master_df.info(null_counts=True)"
   ]
  },
  {
   "cell_type": "markdown",
   "metadata": {},
   "source": [
    "**#2 Define**\n",
    ">add column **duration_mins** & **duration_hrs** : Ride Time in minutes & hours"
   ]
  },
  {
   "cell_type": "markdown",
   "metadata": {},
   "source": [
    "**Code**"
   ]
  },
  {
   "cell_type": "code",
   "execution_count": 25,
   "metadata": {},
   "outputs": [
    {
     "name": "stdout",
     "output_type": "stream",
     "text": [
      "Done\n"
     ]
    }
   ],
   "source": [
    "master_df['duration_mins'] = master_df.duration_sec/60\n",
    "print('Done')"
   ]
  },
  {
   "cell_type": "code",
   "execution_count": 39,
   "metadata": {},
   "outputs": [
    {
     "name": "stdout",
     "output_type": "stream",
     "text": [
      "<class 'pandas.core.frame.DataFrame'>\n",
      "Int64Index: 2407259 entries, 0 to 149779\n",
      "Data columns (total 15 columns):\n",
      "duration_sec          2407259 non-null int64\n",
      "start_time            2407259 non-null datetime64[ns]\n",
      "end_time              2407259 non-null datetime64[ns]\n",
      "start_station_id      2407259 non-null object\n",
      "start_station_name    2407259 non-null object\n",
      "end_station_id        2407259 non-null object\n",
      "end_station_name      2407259 non-null object\n",
      "bike_id               2407259 non-null object\n",
      "user_type             2407259 non-null category\n",
      "displacement          2407259 non-null float64\n",
      "duration_mins         2407259 non-null float64\n",
      "month                 2407259 non-null category\n",
      "day                   2407259 non-null int64\n",
      "hour                  2407259 non-null int64\n",
      "weekday               2407259 non-null category\n",
      "dtypes: category(3), datetime64[ns](2), float64(2), int64(3), object(5)\n",
      "memory usage: 245.6+ MB\n"
     ]
    }
   ],
   "source": [
    "master_df.info(null_counts = True)"
   ]
  },
  {
   "cell_type": "markdown",
   "metadata": {},
   "source": [
    "**Test**"
   ]
  },
  {
   "cell_type": "code",
   "execution_count": 232,
   "metadata": {},
   "outputs": [
    {
     "data": {
      "text/html": [
       "<div>\n",
       "<style scoped>\n",
       "    .dataframe tbody tr th:only-of-type {\n",
       "        vertical-align: middle;\n",
       "    }\n",
       "\n",
       "    .dataframe tbody tr th {\n",
       "        vertical-align: top;\n",
       "    }\n",
       "\n",
       "    .dataframe thead th {\n",
       "        text-align: right;\n",
       "    }\n",
       "</style>\n",
       "<table border=\"1\" class=\"dataframe\">\n",
       "  <thead>\n",
       "    <tr style=\"text-align: right;\">\n",
       "      <th></th>\n",
       "      <th>duration_sec</th>\n",
       "      <th>start_time</th>\n",
       "      <th>end_time</th>\n",
       "      <th>start_station_id</th>\n",
       "      <th>start_station_name</th>\n",
       "      <th>end_station_id</th>\n",
       "      <th>end_station_name</th>\n",
       "      <th>bike_id</th>\n",
       "      <th>user_type</th>\n",
       "      <th>displacement</th>\n",
       "      <th>duration_mins</th>\n",
       "    </tr>\n",
       "  </thead>\n",
       "  <tbody>\n",
       "    <tr>\n",
       "      <th>0</th>\n",
       "      <td>80825</td>\n",
       "      <td>2019-01-31 17:57:44.613</td>\n",
       "      <td>2019-02-01 16:24:49.864</td>\n",
       "      <td>229.0</td>\n",
       "      <td>Foothill Blvd at 42nd Ave</td>\n",
       "      <td>196.0</td>\n",
       "      <td>Grand Ave at Perkins St</td>\n",
       "      <td>4861</td>\n",
       "      <td>Subscriber</td>\n",
       "      <td>5.305199</td>\n",
       "      <td>1347.083333</td>\n",
       "    </tr>\n",
       "    <tr>\n",
       "      <th>1</th>\n",
       "      <td>65900</td>\n",
       "      <td>2019-01-31 20:58:33.886</td>\n",
       "      <td>2019-02-01 15:16:54.173</td>\n",
       "      <td>4.0</td>\n",
       "      <td>Cyril Magnin St at Ellis St</td>\n",
       "      <td>134.0</td>\n",
       "      <td>Valencia St at 24th St</td>\n",
       "      <td>5506</td>\n",
       "      <td>Subscriber</td>\n",
       "      <td>3.859628</td>\n",
       "      <td>1098.333333</td>\n",
       "    </tr>\n",
       "    <tr>\n",
       "      <th>2</th>\n",
       "      <td>62633</td>\n",
       "      <td>2019-01-31 18:06:52.924</td>\n",
       "      <td>2019-02-01 11:30:46.530</td>\n",
       "      <td>245.0</td>\n",
       "      <td>Downtown Berkeley BART</td>\n",
       "      <td>157.0</td>\n",
       "      <td>65th St at Hollis St</td>\n",
       "      <td>2717</td>\n",
       "      <td>Customer</td>\n",
       "      <td>3.287098</td>\n",
       "      <td>1043.883333</td>\n",
       "    </tr>\n",
       "    <tr>\n",
       "      <th>3</th>\n",
       "      <td>44680</td>\n",
       "      <td>2019-01-31 19:46:09.719</td>\n",
       "      <td>2019-02-01 08:10:50.318</td>\n",
       "      <td>85.0</td>\n",
       "      <td>Church St at Duboce Ave</td>\n",
       "      <td>53.0</td>\n",
       "      <td>Grove St at Divisadero</td>\n",
       "      <td>4557</td>\n",
       "      <td>Customer</td>\n",
       "      <td>0.999632</td>\n",
       "      <td>744.666667</td>\n",
       "    </tr>\n",
       "    <tr>\n",
       "      <th>4</th>\n",
       "      <td>60709</td>\n",
       "      <td>2019-01-31 14:19:01.541</td>\n",
       "      <td>2019-02-01 07:10:51.065</td>\n",
       "      <td>16.0</td>\n",
       "      <td>Steuart St at Market St</td>\n",
       "      <td>28.0</td>\n",
       "      <td>The Embarcadero at Bryant St</td>\n",
       "      <td>2100</td>\n",
       "      <td>Customer</td>\n",
       "      <td>0.953355</td>\n",
       "      <td>1011.816667</td>\n",
       "    </tr>\n",
       "  </tbody>\n",
       "</table>\n",
       "</div>"
      ],
      "text/plain": [
       "   duration_sec              start_time                end_time  \\\n",
       "0         80825 2019-01-31 17:57:44.613 2019-02-01 16:24:49.864   \n",
       "1         65900 2019-01-31 20:58:33.886 2019-02-01 15:16:54.173   \n",
       "2         62633 2019-01-31 18:06:52.924 2019-02-01 11:30:46.530   \n",
       "3         44680 2019-01-31 19:46:09.719 2019-02-01 08:10:50.318   \n",
       "4         60709 2019-01-31 14:19:01.541 2019-02-01 07:10:51.065   \n",
       "\n",
       "  start_station_id           start_station_name end_station_id  \\\n",
       "0            229.0    Foothill Blvd at 42nd Ave          196.0   \n",
       "1              4.0  Cyril Magnin St at Ellis St          134.0   \n",
       "2            245.0       Downtown Berkeley BART          157.0   \n",
       "3             85.0      Church St at Duboce Ave           53.0   \n",
       "4             16.0      Steuart St at Market St           28.0   \n",
       "\n",
       "               end_station_name bike_id   user_type  displacement  \\\n",
       "0       Grand Ave at Perkins St    4861  Subscriber      5.305199   \n",
       "1        Valencia St at 24th St    5506  Subscriber      3.859628   \n",
       "2          65th St at Hollis St    2717    Customer      3.287098   \n",
       "3        Grove St at Divisadero    4557    Customer      0.999632   \n",
       "4  The Embarcadero at Bryant St    2100    Customer      0.953355   \n",
       "\n",
       "   duration_mins  \n",
       "0    1347.083333  \n",
       "1    1098.333333  \n",
       "2    1043.883333  \n",
       "3     744.666667  \n",
       "4    1011.816667  "
      ]
     },
     "execution_count": 232,
     "metadata": {},
     "output_type": "execute_result"
    }
   ],
   "source": [
    "master_df.head()"
   ]
  },
  {
   "cell_type": "markdown",
   "metadata": {},
   "source": [
    "**#3 Define**\n",
    ">Add columns for `month` and `day`"
   ]
  },
  {
   "cell_type": "markdown",
   "metadata": {},
   "source": [
    "**Code**"
   ]
  },
  {
   "cell_type": "code",
   "execution_count": 29,
   "metadata": {},
   "outputs": [],
   "source": [
    "master_df['month'] = master_df.start_time.dt.month_name()\n",
    "master_df['day'] = master_df.start_time.dt.day\n",
    "master_df['hour'] = master_df.start_time.dt.hour\n",
    "master_df['weekday'] = master_df.start_time.dt.weekday_name"
   ]
  },
  {
   "cell_type": "markdown",
   "metadata": {},
   "source": [
    "**Additional Issues**  \n",
    "\n",
    "\n",
    "**Define**\n",
    "Changing Datatypes\n",
    "- category: weekday_name, month\n",
    "- object: day, hour"
   ]
  },
  {
   "cell_type": "markdown",
   "metadata": {},
   "source": [
    "**Code**"
   ]
  },
  {
   "cell_type": "code",
   "execution_count": 28,
   "metadata": {},
   "outputs": [
    {
     "data": {
      "text/plain": [
       "array(['January', 'February', 'March', 'April', 'May', 'June', 'July',\n",
       "       'August', 'September', 'October', 'November', 'December'],\n",
       "      dtype=object)"
      ]
     },
     "execution_count": 28,
     "metadata": {},
     "output_type": "execute_result"
    }
   ],
   "source": [
    "master_df.month.unique()"
   ]
  },
  {
   "cell_type": "code",
   "execution_count": 34,
   "metadata": {},
   "outputs": [
    {
     "name": "stdout",
     "output_type": "stream",
     "text": [
      "Done\n"
     ]
    }
   ],
   "source": [
    "weekday = ['Monday', 'Tuesday', 'Wednesday', 'Thursday', 'Friday', 'Saturday', 'Sunday']\n",
    "weekday_cat = pd.api.types.CategoricalDtype(ordered = True, categories = weekday)\n",
    "master_df['weekday'] = master_df['weekday'].astype(weekday_cat)\n",
    "\n",
    "months = master_df.month.unique()\n",
    "months_cat = pd.api.types.CategoricalDtype(ordered = True, categories = months) \n",
    "master_df['month'] = master_df['month'].astype(months_cat)\n",
    "\n",
    "\n",
    "master_df.day.astype('str', inplace = True)\n",
    "master_df.hour.astype('str', inplace = True)\n",
    "print('Done')"
   ]
  },
  {
   "cell_type": "markdown",
   "metadata": {},
   "source": [
    "**Test**"
   ]
  },
  {
   "cell_type": "code",
   "execution_count": 35,
   "metadata": {},
   "outputs": [
    {
     "name": "stdout",
     "output_type": "stream",
     "text": [
      "<class 'pandas.core.frame.DataFrame'>\n",
      "Int64Index: 2407259 entries, 0 to 149779\n",
      "Data columns (total 15 columns):\n",
      "duration_sec          2407259 non-null int64\n",
      "start_time            2407259 non-null datetime64[ns]\n",
      "end_time              2407259 non-null datetime64[ns]\n",
      "start_station_id      2407259 non-null object\n",
      "start_station_name    2407259 non-null object\n",
      "end_station_id        2407259 non-null object\n",
      "end_station_name      2407259 non-null object\n",
      "bike_id               2407259 non-null object\n",
      "user_type             2407259 non-null category\n",
      "displacement          2407259 non-null float64\n",
      "duration_mins         2407259 non-null float64\n",
      "month                 2407259 non-null category\n",
      "day                   2407259 non-null int64\n",
      "hour                  2407259 non-null int64\n",
      "weekday               2407259 non-null category\n",
      "dtypes: category(3), datetime64[ns](2), float64(2), int64(3), object(5)\n",
      "memory usage: 245.6+ MB\n"
     ]
    }
   ],
   "source": [
    "master_df.info(null_counts = True)"
   ]
  },
  {
   "cell_type": "markdown",
   "metadata": {},
   "source": [
    "### Save master_df in csv file"
   ]
  },
  {
   "cell_type": "code",
   "execution_count": 37,
   "metadata": {},
   "outputs": [
    {
     "name": "stdout",
     "output_type": "stream",
     "text": [
      "Done\n"
     ]
    }
   ],
   "source": [
    "master_df.to_csv('ford-go-bike-master.csv', index = False)\n",
    "print('Done')"
   ]
  },
  {
   "cell_type": "markdown",
   "metadata": {},
   "source": [
    "**Read from master csv file**"
   ]
  },
  {
   "cell_type": "code",
   "execution_count": 6,
   "metadata": {},
   "outputs": [],
   "source": [
    "df = pd.read_csv('ford-go-bike-master.csv')"
   ]
  },
  {
   "cell_type": "code",
   "execution_count": 7,
   "metadata": {},
   "outputs": [
    {
     "name": "stdout",
     "output_type": "stream",
     "text": [
      "Done\n"
     ]
    }
   ],
   "source": [
    "df['start_time'] = pd.to_datetime(df['start_time'])\n",
    "df['end_time'] = pd.to_datetime(df['end_time'])\n",
    "\n",
    "df['start_station_id'] = df['start_station_id'].astype('str')\n",
    "df['end_station_id'] = df['end_station_id'].astype('str')\n",
    "df['bike_id'] = df['bike_id'].astype('str')\n",
    "\n",
    "df['user_type'] = df['user_type'].astype('category')\n",
    "\n",
    "weekday = ['Monday', 'Tuesday', 'Wednesday', 'Thursday', 'Friday', 'Saturday', 'Sunday']\n",
    "weekday_cat = pd.api.types.CategoricalDtype(ordered = True, categories = weekday)\n",
    "df['weekday'] = df['weekday'].astype(weekday_cat)\n",
    "\n",
    "months = df.month.unique()\n",
    "months_cat = pd.api.types.CategoricalDtype(ordered = True, categories = months) \n",
    "df['month'] = df['month'].astype(months_cat)\n",
    "\n",
    "\n",
    "df.day.astype('str', inplace = True)\n",
    "df.hour.astype('str', inplace = True)\n",
    "print('Done')"
   ]
  },
  {
   "cell_type": "code",
   "execution_count": 8,
   "metadata": {},
   "outputs": [
    {
     "name": "stdout",
     "output_type": "stream",
     "text": [
      "<class 'pandas.core.frame.DataFrame'>\n",
      "RangeIndex: 2407259 entries, 0 to 2407258\n",
      "Data columns (total 15 columns):\n",
      "duration_sec          int64\n",
      "start_time            datetime64[ns]\n",
      "end_time              datetime64[ns]\n",
      "start_station_id      object\n",
      "start_station_name    object\n",
      "end_station_id        object\n",
      "end_station_name      object\n",
      "bike_id               object\n",
      "user_type             category\n",
      "displacement          float64\n",
      "duration_mins         float64\n",
      "month                 category\n",
      "day                   int64\n",
      "hour                  int64\n",
      "weekday               category\n",
      "dtypes: category(3), datetime64[ns](2), float64(2), int64(3), object(5)\n",
      "memory usage: 227.3+ MB\n"
     ]
    }
   ],
   "source": [
    "df.info()"
   ]
  },
  {
   "cell_type": "markdown",
   "metadata": {},
   "source": [
    "## Exploration"
   ]
  },
  {
   "cell_type": "code",
   "execution_count": 9,
   "metadata": {
    "scrolled": true
   },
   "outputs": [
    {
     "data": {
      "text/html": [
       "<div>\n",
       "<style scoped>\n",
       "    .dataframe tbody tr th:only-of-type {\n",
       "        vertical-align: middle;\n",
       "    }\n",
       "\n",
       "    .dataframe tbody tr th {\n",
       "        vertical-align: top;\n",
       "    }\n",
       "\n",
       "    .dataframe thead th {\n",
       "        text-align: right;\n",
       "    }\n",
       "</style>\n",
       "<table border=\"1\" class=\"dataframe\">\n",
       "  <thead>\n",
       "    <tr style=\"text-align: right;\">\n",
       "      <th></th>\n",
       "      <th>duration_sec</th>\n",
       "      <th>start_time</th>\n",
       "      <th>end_time</th>\n",
       "      <th>start_station_id</th>\n",
       "      <th>start_station_name</th>\n",
       "      <th>end_station_id</th>\n",
       "      <th>end_station_name</th>\n",
       "      <th>bike_id</th>\n",
       "      <th>user_type</th>\n",
       "      <th>displacement</th>\n",
       "      <th>duration_mins</th>\n",
       "      <th>month</th>\n",
       "      <th>day</th>\n",
       "      <th>hour</th>\n",
       "      <th>weekday</th>\n",
       "    </tr>\n",
       "  </thead>\n",
       "  <tbody>\n",
       "    <tr>\n",
       "      <th>2186598</th>\n",
       "      <td>538</td>\n",
       "      <td>2019-11-14 10:35:54.166</td>\n",
       "      <td>2019-11-14 10:44:53.048</td>\n",
       "      <td>238.0</td>\n",
       "      <td>MLK Jr Way at University Ave</td>\n",
       "      <td>256.0</td>\n",
       "      <td>Hearst Ave at Euclid Ave</td>\n",
       "      <td>10106</td>\n",
       "      <td>Subscriber</td>\n",
       "      <td>1.161411</td>\n",
       "      <td>8.966667</td>\n",
       "      <td>November</td>\n",
       "      <td>14</td>\n",
       "      <td>10</td>\n",
       "      <td>Thursday</td>\n",
       "    </tr>\n",
       "    <tr>\n",
       "      <th>833279</th>\n",
       "      <td>201</td>\n",
       "      <td>2019-04-04 17:25:50.195</td>\n",
       "      <td>2019-04-04 17:29:11.990</td>\n",
       "      <td>350.0</td>\n",
       "      <td>8th St at Brannan St</td>\n",
       "      <td>67.0</td>\n",
       "      <td>San Francisco Caltrain Station 2  (Townsend St...</td>\n",
       "      <td>6282</td>\n",
       "      <td>Subscriber</td>\n",
       "      <td>1.071735</td>\n",
       "      <td>3.350000</td>\n",
       "      <td>April</td>\n",
       "      <td>4</td>\n",
       "      <td>17</td>\n",
       "      <td>Thursday</td>\n",
       "    </tr>\n",
       "    <tr>\n",
       "      <th>593663</th>\n",
       "      <td>1214</td>\n",
       "      <td>2019-03-06 17:43:06.964</td>\n",
       "      <td>2019-03-06 18:03:21.922</td>\n",
       "      <td>36.0</td>\n",
       "      <td>Folsom St at 3rd St</td>\n",
       "      <td>375.0</td>\n",
       "      <td>Grove St at Masonic Ave</td>\n",
       "      <td>6442</td>\n",
       "      <td>Customer</td>\n",
       "      <td>4.307705</td>\n",
       "      <td>20.233333</td>\n",
       "      <td>March</td>\n",
       "      <td>6</td>\n",
       "      <td>17</td>\n",
       "      <td>Wednesday</td>\n",
       "    </tr>\n",
       "    <tr>\n",
       "      <th>349939</th>\n",
       "      <td>1307</td>\n",
       "      <td>2019-02-05 19:06:10.943</td>\n",
       "      <td>2019-02-05 19:27:58.014</td>\n",
       "      <td>23.0</td>\n",
       "      <td>The Embarcadero at Steuart St</td>\n",
       "      <td>74.0</td>\n",
       "      <td>Laguna St at Hayes St</td>\n",
       "      <td>858</td>\n",
       "      <td>Subscriber</td>\n",
       "      <td>3.516717</td>\n",
       "      <td>21.783333</td>\n",
       "      <td>February</td>\n",
       "      <td>5</td>\n",
       "      <td>19</td>\n",
       "      <td>Tuesday</td>\n",
       "    </tr>\n",
       "    <tr>\n",
       "      <th>1989034</th>\n",
       "      <td>396</td>\n",
       "      <td>2019-10-14 21:29:30.183</td>\n",
       "      <td>2019-10-14 21:36:07.113</td>\n",
       "      <td>5.0</td>\n",
       "      <td>Powell St BART Station (Market St at 5th St)</td>\n",
       "      <td>78.0</td>\n",
       "      <td>Folsom St at 9th St</td>\n",
       "      <td>10811</td>\n",
       "      <td>Subscriber</td>\n",
       "      <td>1.166649</td>\n",
       "      <td>6.600000</td>\n",
       "      <td>October</td>\n",
       "      <td>14</td>\n",
       "      <td>21</td>\n",
       "      <td>Monday</td>\n",
       "    </tr>\n",
       "  </tbody>\n",
       "</table>\n",
       "</div>"
      ],
      "text/plain": [
       "         duration_sec              start_time                end_time  \\\n",
       "2186598           538 2019-11-14 10:35:54.166 2019-11-14 10:44:53.048   \n",
       "833279            201 2019-04-04 17:25:50.195 2019-04-04 17:29:11.990   \n",
       "593663           1214 2019-03-06 17:43:06.964 2019-03-06 18:03:21.922   \n",
       "349939           1307 2019-02-05 19:06:10.943 2019-02-05 19:27:58.014   \n",
       "1989034           396 2019-10-14 21:29:30.183 2019-10-14 21:36:07.113   \n",
       "\n",
       "        start_station_id                            start_station_name  \\\n",
       "2186598            238.0                  MLK Jr Way at University Ave   \n",
       "833279             350.0                          8th St at Brannan St   \n",
       "593663              36.0                           Folsom St at 3rd St   \n",
       "349939              23.0                 The Embarcadero at Steuart St   \n",
       "1989034              5.0  Powell St BART Station (Market St at 5th St)   \n",
       "\n",
       "        end_station_id                                   end_station_name  \\\n",
       "2186598          256.0                           Hearst Ave at Euclid Ave   \n",
       "833279            67.0  San Francisco Caltrain Station 2  (Townsend St...   \n",
       "593663           375.0                            Grove St at Masonic Ave   \n",
       "349939            74.0                              Laguna St at Hayes St   \n",
       "1989034           78.0                                Folsom St at 9th St   \n",
       "\n",
       "        bike_id   user_type  displacement  duration_mins     month  day  hour  \\\n",
       "2186598   10106  Subscriber      1.161411       8.966667  November   14    10   \n",
       "833279     6282  Subscriber      1.071735       3.350000     April    4    17   \n",
       "593663     6442    Customer      4.307705      20.233333     March    6    17   \n",
       "349939      858  Subscriber      3.516717      21.783333  February    5    19   \n",
       "1989034   10811  Subscriber      1.166649       6.600000   October   14    21   \n",
       "\n",
       "           weekday  \n",
       "2186598   Thursday  \n",
       "833279    Thursday  \n",
       "593663   Wednesday  \n",
       "349939     Tuesday  \n",
       "1989034     Monday  "
      ]
     },
     "execution_count": 9,
     "metadata": {},
     "output_type": "execute_result"
    }
   ],
   "source": [
    "df.sample(5)"
   ]
  },
  {
   "cell_type": "code",
   "execution_count": 10,
   "metadata": {},
   "outputs": [],
   "source": [
    "df['duration_mins'] = df.duration_mins.apply(lambda val: round(val, 2))\n",
    "df['displacement'] = df.displacement.apply(lambda val: round(val, 4))"
   ]
  },
  {
   "cell_type": "code",
   "execution_count": 11,
   "metadata": {},
   "outputs": [
    {
     "name": "stdout",
     "output_type": "stream",
     "text": [
      "(2407259, 15)\n",
      "duration_sec                   int64\n",
      "start_time            datetime64[ns]\n",
      "end_time              datetime64[ns]\n",
      "start_station_id              object\n",
      "start_station_name            object\n",
      "end_station_id                object\n",
      "end_station_name              object\n",
      "bike_id                       object\n",
      "user_type                   category\n",
      "displacement                 float64\n",
      "duration_mins                float64\n",
      "month                       category\n",
      "day                            int64\n",
      "hour                           int64\n",
      "weekday                     category\n",
      "dtype: object\n"
     ]
    },
    {
     "data": {
      "text/html": [
       "<div>\n",
       "<style scoped>\n",
       "    .dataframe tbody tr th:only-of-type {\n",
       "        vertical-align: middle;\n",
       "    }\n",
       "\n",
       "    .dataframe tbody tr th {\n",
       "        vertical-align: top;\n",
       "    }\n",
       "\n",
       "    .dataframe thead th {\n",
       "        text-align: right;\n",
       "    }\n",
       "</style>\n",
       "<table border=\"1\" class=\"dataframe\">\n",
       "  <thead>\n",
       "    <tr style=\"text-align: right;\">\n",
       "      <th></th>\n",
       "      <th>duration_sec</th>\n",
       "      <th>displacement</th>\n",
       "      <th>duration_mins</th>\n",
       "      <th>day</th>\n",
       "      <th>hour</th>\n",
       "    </tr>\n",
       "  </thead>\n",
       "  <tbody>\n",
       "    <tr>\n",
       "      <th>count</th>\n",
       "      <td>2.407259e+06</td>\n",
       "      <td>2.407259e+06</td>\n",
       "      <td>2.407259e+06</td>\n",
       "      <td>2.407259e+06</td>\n",
       "      <td>2.407259e+06</td>\n",
       "    </tr>\n",
       "    <tr>\n",
       "      <th>mean</th>\n",
       "      <td>8.048171e+02</td>\n",
       "      <td>2.062120e+00</td>\n",
       "      <td>1.341362e+01</td>\n",
       "      <td>1.558986e+01</td>\n",
       "      <td>1.351664e+01</td>\n",
       "    </tr>\n",
       "    <tr>\n",
       "      <th>std</th>\n",
       "      <td>1.910718e+03</td>\n",
       "      <td>6.849460e+01</td>\n",
       "      <td>3.184531e+01</td>\n",
       "      <td>8.660494e+00</td>\n",
       "      <td>4.801285e+00</td>\n",
       "    </tr>\n",
       "    <tr>\n",
       "      <th>min</th>\n",
       "      <td>6.000000e+01</td>\n",
       "      <td>0.000000e+00</td>\n",
       "      <td>1.000000e+00</td>\n",
       "      <td>1.000000e+00</td>\n",
       "      <td>0.000000e+00</td>\n",
       "    </tr>\n",
       "    <tr>\n",
       "      <th>25%</th>\n",
       "      <td>3.580000e+02</td>\n",
       "      <td>9.318000e-01</td>\n",
       "      <td>5.970000e+00</td>\n",
       "      <td>8.000000e+00</td>\n",
       "      <td>9.000000e+00</td>\n",
       "    </tr>\n",
       "    <tr>\n",
       "      <th>50%</th>\n",
       "      <td>5.690000e+02</td>\n",
       "      <td>1.453600e+00</td>\n",
       "      <td>9.480000e+00</td>\n",
       "      <td>1.500000e+01</td>\n",
       "      <td>1.400000e+01</td>\n",
       "    </tr>\n",
       "    <tr>\n",
       "      <th>75%</th>\n",
       "      <td>8.830000e+02</td>\n",
       "      <td>2.229900e+00</td>\n",
       "      <td>1.472000e+01</td>\n",
       "      <td>2.300000e+01</td>\n",
       "      <td>1.700000e+01</td>\n",
       "    </tr>\n",
       "    <tr>\n",
       "      <th>max</th>\n",
       "      <td>8.623000e+04</td>\n",
       "      <td>1.279973e+04</td>\n",
       "      <td>1.437170e+03</td>\n",
       "      <td>3.100000e+01</td>\n",
       "      <td>2.300000e+01</td>\n",
       "    </tr>\n",
       "  </tbody>\n",
       "</table>\n",
       "</div>"
      ],
      "text/plain": [
       "       duration_sec  displacement  duration_mins           day          hour\n",
       "count  2.407259e+06  2.407259e+06   2.407259e+06  2.407259e+06  2.407259e+06\n",
       "mean   8.048171e+02  2.062120e+00   1.341362e+01  1.558986e+01  1.351664e+01\n",
       "std    1.910718e+03  6.849460e+01   3.184531e+01  8.660494e+00  4.801285e+00\n",
       "min    6.000000e+01  0.000000e+00   1.000000e+00  1.000000e+00  0.000000e+00\n",
       "25%    3.580000e+02  9.318000e-01   5.970000e+00  8.000000e+00  9.000000e+00\n",
       "50%    5.690000e+02  1.453600e+00   9.480000e+00  1.500000e+01  1.400000e+01\n",
       "75%    8.830000e+02  2.229900e+00   1.472000e+01  2.300000e+01  1.700000e+01\n",
       "max    8.623000e+04  1.279973e+04   1.437170e+03  3.100000e+01  2.300000e+01"
      ]
     },
     "execution_count": 11,
     "metadata": {},
     "output_type": "execute_result"
    }
   ],
   "source": [
    "# high-level overview of data shape and composition\n",
    "print(df.shape)\n",
    "print(df.dtypes)\n",
    "df.describe()"
   ]
  },
  {
   "cell_type": "code",
   "execution_count": 12,
   "metadata": {
    "scrolled": true
   },
   "outputs": [
    {
     "name": "stdout",
     "output_type": "stream",
     "text": [
      "<class 'pandas.core.frame.DataFrame'>\n",
      "RangeIndex: 2407259 entries, 0 to 2407258\n",
      "Data columns (total 15 columns):\n",
      "duration_sec          2407259 non-null int64\n",
      "start_time            2407259 non-null datetime64[ns]\n",
      "end_time              2407259 non-null datetime64[ns]\n",
      "start_station_id      2407259 non-null object\n",
      "start_station_name    2407259 non-null object\n",
      "end_station_id        2407259 non-null object\n",
      "end_station_name      2407259 non-null object\n",
      "bike_id               2407259 non-null object\n",
      "user_type             2407259 non-null category\n",
      "displacement          2407259 non-null float64\n",
      "duration_mins         2407259 non-null float64\n",
      "month                 2407259 non-null category\n",
      "day                   2407259 non-null int64\n",
      "hour                  2407259 non-null int64\n",
      "weekday               2407259 non-null category\n",
      "dtypes: category(3), datetime64[ns](2), float64(2), int64(3), object(5)\n",
      "memory usage: 227.3+ MB\n"
     ]
    }
   ],
   "source": [
    "df.info(null_counts=True)"
   ]
  },
  {
   "cell_type": "markdown",
   "metadata": {},
   "source": [
    "### Main feature(s) of interest in our dataset.\n",
    "- user_type\n",
    "- displacement\n",
    "- duration_mins\n",
    "- month, day, hour, weekday\n",
    "\n",
    "> All these above mentioned features will help us solve a number of questions by themselves when combined with `bike_id`."
   ]
  },
  {
   "cell_type": "markdown",
   "metadata": {},
   "source": [
    "Lets's get started with our exploration and see what solutions we can get from our dataset, utilizing the above mentioned features."
   ]
  },
  {
   "cell_type": "markdown",
   "metadata": {},
   "source": [
    "## Univariate Exploration"
   ]
  },
  {
   "cell_type": "markdown",
   "metadata": {},
   "source": [
    "**Ride Duration in minutes**"
   ]
  },
  {
   "cell_type": "code",
   "execution_count": 334,
   "metadata": {},
   "outputs": [
    {
     "data": {
      "text/plain": [
       "14.72"
      ]
     },
     "execution_count": 334,
     "metadata": {},
     "output_type": "execute_result"
    }
   ],
   "source": [
    "np.percentile(df.duration_mins, 75)"
   ]
  },
  {
   "cell_type": "code",
   "execution_count": 13,
   "metadata": {},
   "outputs": [
    {
     "data": {
      "image/png": "[encoded data removed]",
      "text/plain": [
       "<Figure size 936x504 with 1 Axes>"
      ]
     },
     "metadata": {
      "needs_background": "light"
     },
     "output_type": "display_data"
    }
   ],
   "source": [
    "plt.figure(figsize=(13,7))\n",
    "bins = np.arange(0, df.duration_mins.max() + 1, 1)\n",
    "plt.hist(data = df, x = 'duration_mins', bins = bins);\n",
    "plt.xlim(0,120);\n",
    "\n",
    "plt.axvline(df.duration_mins.mean(), color = 'r', label = 'Mean')\n",
    "plt.axvline(df.duration_mins.median(), color = 'y', label = 'Median')\n",
    "plt.legend(fontsize = 14)\n",
    "\n",
    "\n",
    "plt.title('Duration of Bike Rides', fontsize = 16);\n",
    "plt.xlabel('Duration of Rides in Minutes');\n",
    "plt.ylabel('Number of Rides');"
   ]
  },
  {
   "cell_type": "markdown",
   "metadata": {},
   "source": [
    "> A right skewed histogram with mean and median between 10 to 15 minutes. Giving us insight that people rent bikes for around 10-15 minutes."
   ]
  },
  {
   "cell_type": "markdown",
   "metadata": {},
   "source": [
    "**Frequency of User Types**"
   ]
  },
  {
   "cell_type": "code",
   "execution_count": 14,
   "metadata": {},
   "outputs": [
    {
     "data": {
      "image/png": "[encoded data removed]",
      "text/plain": [
       "<Figure size 576x432 with 1 Axes>"
      ]
     },
     "metadata": {
      "needs_background": "light"
     },
     "output_type": "display_data"
    }
   ],
   "source": [
    "base_color = sns.color_palette()[0]\n",
    "plt.figure(figsize = (8,6))\n",
    "df.user_type.value_counts().plot(kind='bar', color = base_color)\n",
    "\n",
    "plt.title('User Type Proportion', fontsize = 16);\n",
    "plt.ylabel('Frequency')\n",
    "plt.xticks(rotation=0, fontsize=14)\n",
    "# add annotations\n",
    "n_points = df.shape[0]\n",
    "cat_counts = df['user_type'].value_counts()\n",
    "locs, labels = plt.xticks() # get thze current tick locations and labels\n",
    "\n",
    "# loop through each pair of locations and labels\n",
    "for loc, label in zip(locs, labels):\n",
    "\n",
    "    # get the text property for the label to get the correct count\n",
    "    count = cat_counts[label.get_text()]\n",
    "    pct_string = '{:0.1f}%'.format(100*count/n_points)\n",
    "\n",
    "    # print the annotation just below the top of the bar\n",
    "    plt.text(loc, count-8, pct_string, ha = 'center', color = 'black', fontsize=12)\n"
   ]
  },
  {
   "cell_type": "markdown",
   "metadata": {},
   "source": [
    "> We have around 4 times more Subscribers than Customers"
   ]
  },
  {
   "cell_type": "markdown",
   "metadata": {},
   "source": [
    "**Number of Rides per month**"
   ]
  },
  {
   "cell_type": "code",
   "execution_count": 15,
   "metadata": {},
   "outputs": [
    {
     "data": {
      "image/png": "[encoded data removed]",
      "text/plain": [
       "<Figure size 864x432 with 1 Axes>"
      ]
     },
     "metadata": {
      "needs_background": "light"
     },
     "output_type": "display_data"
    }
   ],
   "source": [
    "plt.figure(figsize=(12,6))\n",
    "sns.countplot(data = df, x='month', color = base_color)\n",
    "plt.title('Number of Rides per Month');"
   ]
  },
  {
   "cell_type": "markdown",
   "metadata": {},
   "source": [
    "> During Winter peak winter and summer the number of users is at its lowest. Speciall during December."
   ]
  },
  {
   "cell_type": "markdown",
   "metadata": {},
   "source": [
    "**Rides per day**"
   ]
  },
  {
   "cell_type": "code",
   "execution_count": 16,
   "metadata": {},
   "outputs": [
    {
     "data": {
      "image/png": "[encoded data removed]",
      "text/plain": [
       "<Figure size 432x288 with 1 Axes>"
      ]
     },
     "metadata": {
      "needs_background": "light"
     },
     "output_type": "display_data"
    }
   ],
   "source": [
    "day_of_year = df.start_time.dt.dayofyear\n",
    "bins = np.arange(0,370,7)\n",
    "plt.hist(day_of_year, bins=bins);\n",
    "plt.title('rides per day');"
   ]
  },
  {
   "cell_type": "markdown",
   "metadata": {},
   "source": [
    "**Rides per hour**"
   ]
  },
  {
   "cell_type": "code",
   "execution_count": 17,
   "metadata": {},
   "outputs": [
    {
     "data": {
      "image/png": "[encoded data removed]",
      "text/plain": [
       "<Figure size 864x432 with 1 Axes>"
      ]
     },
     "metadata": {
      "needs_background": "light"
     },
     "output_type": "display_data"
    }
   ],
   "source": [
    "plt.figure(figsize=(12,6))\n",
    "sns.countplot(df['hour'], color=base_color);\n",
    "plt.xticks(np.arange(0,25));\n",
    "plt.title('Rides per Hour');"
   ]
  },
  {
   "cell_type": "markdown",
   "metadata": {},
   "source": [
    ">It's kind of a `bimodal` distrubition where the bike rents it at `peak` at `8 am and 5 pm`."
   ]
  },
  {
   "cell_type": "markdown",
   "metadata": {},
   "source": [
    "**Rides per Weekday**"
   ]
  },
  {
   "cell_type": "code",
   "execution_count": 18,
   "metadata": {},
   "outputs": [
    {
     "data": {
      "image/png": "[encoded data removed]",
      "text/plain": [
       "<Figure size 792x360 with 1 Axes>"
      ]
     },
     "metadata": {
      "needs_background": "light"
     },
     "output_type": "display_data"
    }
   ],
   "source": [
    "plt.figure(figsize=(11,5))\n",
    "sns.countplot(df.weekday, color=base_color);"
   ]
  },
  {
   "cell_type": "markdown",
   "metadata": {},
   "source": [
    "> Looks like people don't prefer using bike rides during weekends. "
   ]
  },
  {
   "cell_type": "markdown",
   "metadata": {},
   "source": [
    "**Displacement**"
   ]
  },
  {
   "cell_type": "code",
   "execution_count": 19,
   "metadata": {},
   "outputs": [
    {
     "data": {
      "text/plain": [
       "count    2.407259e+06\n",
       "mean     2.062120e+00\n",
       "std      6.849460e+01\n",
       "min      0.000000e+00\n",
       "25%      9.318000e-01\n",
       "50%      1.453600e+00\n",
       "75%      2.229900e+00\n",
       "max      1.279973e+04\n",
       "Name: displacement, dtype: float64"
      ]
     },
     "execution_count": 19,
     "metadata": {},
     "output_type": "execute_result"
    }
   ],
   "source": [
    "df.displacement.describe()"
   ]
  },
  {
   "cell_type": "code",
   "execution_count": 33,
   "metadata": {},
   "outputs": [
    {
     "data": {
      "text/html": [
       "<div>\n",
       "<style scoped>\n",
       "    .dataframe tbody tr th:only-of-type {\n",
       "        vertical-align: middle;\n",
       "    }\n",
       "\n",
       "    .dataframe tbody tr th {\n",
       "        vertical-align: top;\n",
       "    }\n",
       "\n",
       "    .dataframe thead th {\n",
       "        text-align: right;\n",
       "    }\n",
       "</style>\n",
       "<table border=\"1\" class=\"dataframe\">\n",
       "  <thead>\n",
       "    <tr style=\"text-align: right;\">\n",
       "      <th></th>\n",
       "      <th>duration_sec</th>\n",
       "      <th>start_time</th>\n",
       "      <th>end_time</th>\n",
       "      <th>start_station_id</th>\n",
       "      <th>start_station_name</th>\n",
       "      <th>end_station_id</th>\n",
       "      <th>end_station_name</th>\n",
       "      <th>bike_id</th>\n",
       "      <th>user_type</th>\n",
       "      <th>displacement</th>\n",
       "      <th>duration_mins</th>\n",
       "      <th>month</th>\n",
       "      <th>day</th>\n",
       "      <th>hour</th>\n",
       "      <th>weekday</th>\n",
       "    </tr>\n",
       "  </thead>\n",
       "  <tbody>\n",
       "    <tr>\n",
       "      <th>2106264</th>\n",
       "      <td>66037</td>\n",
       "      <td>2019-11-25 16:40:51.382</td>\n",
       "      <td>2019-11-26 11:01:28.665</td>\n",
       "      <td>485.0</td>\n",
       "      <td>Funston Ave at Fulton St</td>\n",
       "      <td>449.0</td>\n",
       "      <td>16th Depot Bike Fleet Station</td>\n",
       "      <td>12577</td>\n",
       "      <td>Customer</td>\n",
       "      <td>12799.7278</td>\n",
       "      <td>1100.62</td>\n",
       "      <td>November</td>\n",
       "      <td>25</td>\n",
       "      <td>16</td>\n",
       "      <td>Monday</td>\n",
       "    </tr>\n",
       "  </tbody>\n",
       "</table>\n",
       "</div>"
      ],
      "text/plain": [
       "         duration_sec              start_time                end_time  \\\n",
       "2106264         66037 2019-11-25 16:40:51.382 2019-11-26 11:01:28.665   \n",
       "\n",
       "        start_station_id        start_station_name end_station_id  \\\n",
       "2106264            485.0  Funston Ave at Fulton St          449.0   \n",
       "\n",
       "                      end_station_name bike_id user_type  displacement  \\\n",
       "2106264  16th Depot Bike Fleet Station   12577  Customer    12799.7278   \n",
       "\n",
       "         duration_mins     month  day  hour weekday  \n",
       "2106264        1100.62  November   25    16  Monday  "
      ]
     },
     "execution_count": 33,
     "metadata": {},
     "output_type": "execute_result"
    }
   ],
   "source": [
    "df[df.displacement == df.displacement.max()]"
   ]
  },
  {
   "cell_type": "code",
   "execution_count": 39,
   "metadata": {},
   "outputs": [
    {
     "name": "stdout",
     "output_type": "stream",
     "text": [
      "Hour Time for this ride 2106264    18.343667\n",
      "Name: duration_mins, dtype: float64\n"
     ]
    }
   ],
   "source": [
    "print('Hour Time for this ride' , df[df.displacement == df.displacement.max()].duration_mins/60)"
   ]
  },
  {
   "cell_type": "markdown",
   "metadata": {},
   "source": [
    ">This very unusual ride data, which covered 12,800 miles in 18hr and 35 mins. Which is impossible.\n",
    "Let's drop this"
   ]
  },
  {
   "cell_type": "code",
   "execution_count": 71,
   "metadata": {},
   "outputs": [],
   "source": [
    "idx = df[df.displacement > 100].index\n",
    "df.drop(idx,inplace=True)"
   ]
  },
  {
   "cell_type": "code",
   "execution_count": 322,
   "metadata": {},
   "outputs": [
    {
     "data": {
      "text/plain": [
       "Text(0.5, 1.0, 'Displacement in Miles')"
      ]
     },
     "execution_count": 322,
     "metadata": {},
     "output_type": "execute_result"
    },
    {
     "data": {
      "image/png": "[encoded data removed]",
      "text/plain": [
       "<Figure size 432x288 with 1 Axes>"
      ]
     },
     "metadata": {
      "needs_background": "light"
     },
     "output_type": "display_data"
    }
   ],
   "source": [
    "bins = np.arange(0, df.displacement.max()+1, 1)\n",
    "df.displacement.hist( bins = bins)\n",
    "plt.axvline(df.displacement.median(), color='r', label='Median')\n",
    "plt.axvline(df.displacement.mean(), color='y', label='Mean')\n",
    "plt.xticks(np.arange(0,10,1))\n",
    "plt.xlim(0,10)\n",
    "plt.legend();\n",
    "plt.title('Displacement in Miles')"
   ]
  },
  {
   "cell_type": "markdown",
   "metadata": {},
   "source": [
    "> Most of the people's ride has a displacement of 1 to 2 miles"
   ]
  },
  {
   "cell_type": "markdown",
   "metadata": {},
   "source": [
    "## Bivariate Exploration\n",
    "\n",
    "> Let's now, investigate relationships between pairs of variables in our\n",
    "data."
   ]
  },
  {
   "cell_type": "markdown",
   "metadata": {},
   "source": [
    "**Duration of Ride as per User Type**"
   ]
  },
  {
   "cell_type": "code",
   "execution_count": 109,
   "metadata": {},
   "outputs": [
    {
     "data": {
      "image/png": "[encoded data removed]",
      "text/plain": [
       "<Figure size 576x432 with 1 Axes>"
      ]
     },
     "metadata": {
      "needs_background": "light"
     },
     "output_type": "display_data"
    }
   ],
   "source": [
    "plt.figure(figsize=(8,6))\n",
    "sns.boxplot(data = df, x = 'user_type', y = 'duration_mins', color = base_color)\n",
    "plt.yticks(np.arange(0,80,10))\n",
    "plt.ylim(0, 60)\n",
    "plt.xlabel('User Type');"
   ]
  },
  {
   "cell_type": "markdown",
   "metadata": {},
   "source": [
    "> Customers seem to have a five minutes higher average ride time than the subscribers. Also we can see some variation in durations between these user  types where Subscribers've less variance in duration."
   ]
  },
  {
   "cell_type": "markdown",
   "metadata": {},
   "source": [
    "**Displacement per User Type**"
   ]
  },
  {
   "cell_type": "code",
   "execution_count": 115,
   "metadata": {},
   "outputs": [
    {
     "data": {
      "image/png": "[encoded data removed]",
      "text/plain": [
       "<Figure size 432x432 with 1 Axes>"
      ]
     },
     "metadata": {
      "needs_background": "light"
     },
     "output_type": "display_data"
    }
   ],
   "source": [
    "plt.figure(figsize=(6,6))\n",
    "sns.boxplot(data = df, x = 'user_type', y = 'displacement');\n",
    "plt.ylim(0,10);"
   ]
  },
  {
   "cell_type": "markdown",
   "metadata": {},
   "source": [
    "> Customers and Subscribers have almost same displacement range. Maybe because customer or not, mostly people ride only for 1 to 3 miles."
   ]
  },
  {
   "cell_type": "markdown",
   "metadata": {},
   "source": [
    "**Ride Duration per Month**"
   ]
  },
  {
   "cell_type": "code",
   "execution_count": 160,
   "metadata": {},
   "outputs": [
    {
     "data": {
      "text/plain": [
       "(0, 16)"
      ]
     },
     "execution_count": 160,
     "metadata": {},
     "output_type": "execute_result"
    },
    {
     "data": {
      "image/png": "[encoded data removed]",
      "text/plain": [
       "<Figure size 720x288 with 1 Axes>"
      ]
     },
     "metadata": {
      "needs_background": "light"
     },
     "output_type": "display_data"
    }
   ],
   "source": [
    "df.groupby('month').duration_mins.mean().reset_index().plot(x='month', y='duration_mins', kind='bar', color=base_color, legend=False, figsize=(10,4))\n",
    "plt.xticks(rotation = 15);\n",
    "plt.ylim(0,16)"
   ]
  },
  {
   "cell_type": "markdown",
   "metadata": {},
   "source": [
    "> The average ride duation each month is around 12 to 14 minutes."
   ]
  },
  {
   "cell_type": "code",
   "execution_count": 210,
   "metadata": {},
   "outputs": [
    {
     "data": {
      "text/plain": [
       "(0, 6)"
      ]
     },
     "execution_count": 210,
     "metadata": {},
     "output_type": "execute_result"
    },
    {
     "data": {
      "image/png": "[encoded data removed]",
      "text/plain": [
       "<Figure size 864x432 with 1 Axes>"
      ]
     },
     "metadata": {
      "needs_background": "light"
     },
     "output_type": "display_data"
    }
   ],
   "source": [
    "plt.figure(figsize = (12,6))\n",
    "sns.violinplot(data = df, x = 'month', y = 'displacement', color = base_color)\n",
    "plt.ylim(0,6)"
   ]
  },
  {
   "cell_type": "markdown",
   "metadata": {},
   "source": [
    "> Similar displacement is observed throughout the year. "
   ]
  },
  {
   "cell_type": "markdown",
   "metadata": {},
   "source": [
    "**Ride Duration per Week**"
   ]
  },
  {
   "cell_type": "code",
   "execution_count": 180,
   "metadata": {},
   "outputs": [
    {
     "data": {
      "image/png": "[encoded data removed]",
      "text/plain": [
       "<Figure size 576x288 with 1 Axes>"
      ]
     },
     "metadata": {
      "needs_background": "light"
     },
     "output_type": "display_data"
    }
   ],
   "source": [
    "df.groupby('weekday').duration_mins.mean().reset_index().plot(kind = 'bar', x = 'weekday', y = 'duration_mins', figsize = (8,4), legend = False, color = base_color)\n",
    "plt.xticks(rotation = 0);\n",
    "plt.ylim(0,20);"
   ]
  },
  {
   "cell_type": "markdown",
   "metadata": {},
   "source": [
    "> During weekend,  people spend around 4-5 more minutes riding bikes than working the days."
   ]
  },
  {
   "cell_type": "markdown",
   "metadata": {},
   "source": [
    "**Displacement per Week**"
   ]
  },
  {
   "cell_type": "code",
   "execution_count": 216,
   "metadata": {},
   "outputs": [
    {
     "data": {
      "image/png": "[encoded data removed]",
      "text/plain": [
       "<Figure size 720x432 with 1 Axes>"
      ]
     },
     "metadata": {
      "needs_background": "light"
     },
     "output_type": "display_data"
    }
   ],
   "source": [
    "plt.figure(figsize=(10,6))\n",
    "sns.boxplot(data=df, x='weekday', y='displacement', color=base_color);\n",
    "plt.xlabel('Day of Week');\n",
    "plt.ylabel('Displacement');\n",
    "plt.ylim(0,10);"
   ]
  },
  {
   "cell_type": "markdown",
   "metadata": {},
   "source": [
    "> Even though we saw that on avergae people use bikes for greater time on weekends, the displacement almost seems equal among days. Which mean the extra ride time on weekends is spent on random fun rides rather than some directed or planned ones."
   ]
  },
  {
   "cell_type": "code",
   "execution_count": 323,
   "metadata": {},
   "outputs": [
    {
     "data": {
      "text/plain": [
       "Index(['duration_sec', 'start_time', 'end_time', 'start_station_id',\n",
       "       'start_station_name', 'end_station_id', 'end_station_name', 'bike_id',\n",
       "       'user_type', 'displacement', 'duration_mins', 'month', 'day', 'hour',\n",
       "       'weekday'],\n",
       "      dtype='object')"
      ]
     },
     "execution_count": 323,
     "metadata": {},
     "output_type": "execute_result"
    }
   ],
   "source": [
    "df.columns"
   ]
  },
  {
   "cell_type": "markdown",
   "metadata": {},
   "source": [
    "**Weekly Ride usage as per User Type**"
   ]
  },
  {
   "cell_type": "code",
   "execution_count": 329,
   "metadata": {},
   "outputs": [
    {
     "data": {
      "text/plain": [
       "user_type   weekday  \n",
       "Customer    Monday        64642\n",
       "            Tuesday       66956\n",
       "            Wednesday     64805\n",
       "            Thursday      68754\n",
       "            Friday        73997\n",
       "            Saturday      70418\n",
       "            Sunday        62608\n",
       "Subscriber  Monday       315598\n",
       "            Tuesday      343295\n",
       "            Wednesday    336346\n",
       "            Thursday     343052\n",
       "            Friday       308487\n",
       "            Saturday     150734\n",
       "            Sunday       137498\n",
       "Name: bike_id, dtype: int64"
      ]
     },
     "execution_count": 329,
     "metadata": {},
     "output_type": "execute_result"
    }
   ],
   "source": [
    "df.groupby(['user_type','weekday']).bike_id.count()"
   ]
  },
  {
   "cell_type": "code",
   "execution_count": 215,
   "metadata": {
    "scrolled": true
   },
   "outputs": [
    {
     "data": {
      "image/png": "[encoded data removed]",
      "text/plain": [
       "<Figure size 720x432 with 1 Axes>"
      ]
     },
     "metadata": {
      "needs_background": "light"
     },
     "output_type": "display_data"
    }
   ],
   "source": [
    "plt.figure(figsize=(10,6))\n",
    "sns.countplot(data=df, x='weekday', hue='user_type');\n",
    "plt.xlabel('Day of Week');\n",
    "plt.ylabel('Count');"
   ]
  },
  {
   "cell_type": "markdown",
   "metadata": {},
   "source": [
    "> The `Customers` are consistent in their ride usage but the `Suscribers` don't use rides durind weekend. Which again explains that a large propetion of users use bikes as a means to goto work place or school."
   ]
  },
  {
   "cell_type": "markdown",
   "metadata": {},
   "source": [
    "**Hourly ride usage of each User type**"
   ]
  },
  {
   "cell_type": "code",
   "execution_count": 218,
   "metadata": {},
   "outputs": [
    {
     "data": {
      "image/png": "[encoded data removed]",
      "text/plain": [
       "<Figure size 720x432 with 1 Axes>"
      ]
     },
     "metadata": {
      "needs_background": "light"
     },
     "output_type": "display_data"
    }
   ],
   "source": [
    "plt.figure(figsize=(10,6))\n",
    "sns.countplot(data=df, x='hour', hue='user_type');\n",
    "plt.xlabel('Hour of Day');\n",
    "plt.ylabel('Count');"
   ]
  },
  {
   "cell_type": "markdown",
   "metadata": {},
   "source": [
    "> The peak for both subscribers and Custmers occurs at same time. Which is exactly what we saw in our univariate exploration of hourly usage where peak hours were 8am in morning and 5pm in evening. "
   ]
  },
  {
   "cell_type": "markdown",
   "metadata": {},
   "source": [
    "**Monthly ride usage of each User type**"
   ]
  },
  {
   "cell_type": "code",
   "execution_count": 318,
   "metadata": {},
   "outputs": [
    {
     "data": {
      "image/png": "[encoded data removed]",
      "text/plain": [
       "<Figure size 864x432 with 1 Axes>"
      ]
     },
     "metadata": {
      "needs_background": "light"
     },
     "output_type": "display_data"
    }
   ],
   "source": [
    "plt.figure(figsize=(12,6))\n",
    "sns.countplot(data=df, x='month', hue='user_type');\n",
    "plt.xlabel('Hour of Day', fontsize=14);\n",
    "plt.ylabel('Count', fontsize=14);\n",
    "plt.title('Monthly ride usage of each User type', fontsize=16);"
   ]
  },
  {
   "cell_type": "markdown",
   "metadata": {},
   "source": [
    "> Since"
   ]
  },
  {
   "cell_type": "code",
   "execution_count": 292,
   "metadata": {},
   "outputs": [
    {
     "data": {
      "image/png": "[encoded data removed]",
      "text/plain": [
       "<Figure size 720x432 with 1 Axes>"
      ]
     },
     "metadata": {
      "needs_background": "light"
     },
     "output_type": "display_data"
    }
   ],
   "source": [
    "df.start_station_name.value_counts().head(5).reset_index(name = 'count').plot(kind = 'barh', x ='index', y = 'count', color = base_color, legend = False, figsize=(10,6))\n",
    "plt.xlim(0, 50000)\n",
    "plt.ylabel('Station Name', fontsize = 14)\n",
    "plt.xlabel('count', fontsize = 14)\n",
    "plt.title('Most Popular Stations', fontsize = 16);"
   ]
  },
  {
   "cell_type": "code",
   "execution_count": 310,
   "metadata": {},
   "outputs": [
    {
     "data": {
      "text/plain": [
       "Subscriber    1935010\n",
       "Customer       472180\n",
       "Name: user_type, dtype: int64"
      ]
     },
     "execution_count": 310,
     "metadata": {},
     "output_type": "execute_result"
    }
   ],
   "source": [
    "df.user_type.value_counts()"
   ]
  },
  {
   "cell_type": "markdown",
   "metadata": {},
   "source": [
    "### Talk about some of the relationships you observed in this part of the investigation. How did the feature(s) of interest vary with other features in the dataset?\n",
    "\n",
    "> The most interesting observation for this dataset is that, `during weekends people spend around 4-5 more minutes riding bikes than working the days`. Also that during morning and evening the numbers increases significantly especially at 8am and 5pm. The number of subscribers is 4 times less that number of customers and the subscribers.\n"
   ]
  },
  {
   "cell_type": "markdown",
   "metadata": {},
   "source": [
    "## Multivariate Exploration\n",
    "\n",
    "> Now looking at three or more variables to investigate our data even\n",
    "further."
   ]
  },
  {
   "cell_type": "markdown",
   "metadata": {},
   "source": [
    "**Hourly bike usage for different user types as per weekdays**"
   ]
  },
  {
   "cell_type": "code",
   "execution_count": 233,
   "metadata": {},
   "outputs": [
    {
     "data": {
      "image/png": "[encoded data removed]",
      "text/plain": [
       "<Figure size 1152x648 with 4 Axes>"
      ]
     },
     "metadata": {
      "needs_background": "light"
     },
     "output_type": "display_data"
    }
   ],
   "source": [
    "plt.figure(figsize = (16,9))\n",
    "plt.suptitle('Hourly Usage during Weekdays for Customers and Subscribers', fontsize = 18)\n",
    "\n",
    "plt.subplot(2, 1, 1)\n",
    "customers = df.query('user_type == \"Customer\"')\n",
    "ct_counts = customers.groupby(['weekday', 'hour']).size()\n",
    "ct_counts = ct_counts.reset_index(name='count')\n",
    "ct_counts = ct_counts.pivot(index='weekday', columns='hour', values='count')\n",
    "sns.heatmap(ct_counts, cmap='rocket_r');\n",
    "plt.title('Customer', loc='right', fontsize = 16);\n",
    "plt.xlabel('Hour of Day', fontsize = 14);\n",
    "plt.ylabel('Day of Week', fontsize = 14);\n",
    "\n",
    "plt.subplot(2, 1, 2)\n",
    "subscribers = df.query('user_type == \"Subscriber\"')\n",
    "st_counts = subscribers.groupby(['weekday', 'hour']).size()\n",
    "st_counts = st_counts.reset_index(name='count')\n",
    "st_counts = st_counts.pivot(index='weekday', columns='hour', values='count')\n",
    "sns.heatmap(st_counts, cmap='rocket_r');\n",
    "plt.title('Subscriber', loc='right', fontsize = 16);\n",
    "plt.xlabel('Hour of Day', fontsize = 14);\n",
    "plt.ylabel('Day of Week', fontsize = 14);"
   ]
  },
  {
   "cell_type": "markdown",
   "metadata": {},
   "source": [
    "> During working days the peak usage for both subscribers and customers is seen at around 8 am in morning and at 5 pm in the evening. Which is something we were expecting to see because, these users use bikes to go to their workplace in morning and then to come back home at evening.\n",
    "> Durinf Weekends, The peak usage is seen between 11 am and 4 pm ie. daytime"
   ]
  },
  {
   "cell_type": "markdown",
   "metadata": {},
   "source": [
    "**Hourly Trip Duration per User Type**"
   ]
  },
  {
   "cell_type": "code",
   "execution_count": 287,
   "metadata": {},
   "outputs": [
    {
     "data": {
      "text/plain": [
       "Text(0.5, 1.0, 'Hourly Trip Duration per User Type')"
      ]
     },
     "execution_count": 287,
     "metadata": {},
     "output_type": "execute_result"
    },
    {
     "data": {
      "image/png": "[encoded data removed]",
      "text/plain": [
       "<Figure size 864x432 with 1 Axes>"
      ]
     },
     "metadata": {
      "needs_background": "light"
     },
     "output_type": "display_data"
    }
   ],
   "source": [
    "hr_ut_dur = df.groupby(['user_type','hour']).duration_mins.mean().reset_index()\n",
    "\n",
    "plt.figure(figsize=(12,6))\n",
    "sns.barplot(data = hr_ut_dur, x='hour', y='duration_mins' ,hue='user_type');\n",
    "plt.xlabel('Hour of Day', fontsize=14);\n",
    "plt.ylabel('Avg. Trip Duration (mins)', fontsize=14);\n",
    "plt.title('Hourly Trip Duration per User Type', fontsize=16)"
   ]
  },
  {
   "cell_type": "markdown",
   "metadata": {},
   "source": [
    "> Customers seen to have a higher average ride duration than subscribers. "
   ]
  },
  {
   "cell_type": "markdown",
   "metadata": {},
   "source": [
    "**Weekly Trip Duration per User Type**"
   ]
  },
  {
   "cell_type": "code",
   "execution_count": 309,
   "metadata": {
    "scrolled": true
   },
   "outputs": [
    {
     "data": {
      "text/plain": [
       "user_type\n",
       "Customer      22.531942\n",
       "Subscriber    11.173579\n",
       "Name: duration_mins, dtype: float64"
      ]
     },
     "execution_count": 309,
     "metadata": {},
     "output_type": "execute_result"
    }
   ],
   "source": [
    "df.groupby('user_type').duration_mins.mean()"
   ]
  },
  {
   "cell_type": "code",
   "execution_count": 290,
   "metadata": {},
   "outputs": [
    {
     "data": {
      "image/png": "[encoded data removed]",
      "text/plain": [
       "<Figure size 720x432 with 1 Axes>"
      ]
     },
     "metadata": {
      "needs_background": "light"
     },
     "output_type": "display_data"
    }
   ],
   "source": [
    "hr_ut_dur = df.groupby(['user_type','weekday']).duration_mins.mean().reset_index()\n",
    "hr_ut_dur = hr_ut_dur.query('duration_mins < 600')\n",
    "plt.figure(figsize=(10,6))\n",
    "sns.pointplot(data = hr_ut_dur, x='weekday', y='duration_mins' ,hue='user_type');\n",
    "plt.xlabel('Weekday', fontsize=14);\n",
    "plt.ylabel('Avg. Trip Duration (min)', fontsize=14);\n",
    "plt.title('Weekly Trip Duration per User Type', fontsize=16);"
   ]
  },
  {
   "cell_type": "markdown",
   "metadata": {},
   "source": [
    "> Customer's favorite biking days are weekends for long trips. As we can see a jump of around 5 minutes average trip duration time. \n",
    "> Subscribers also made a jump during weekends, but the varriance is relativelly less, maybe because out dataset has about 4 times more data of subscribers than customers.\n",
    "\n",
    "> We're seeing this behavour because people have more free time during weekends, and biking is fun along with its good health affects. "
   ]
  },
  {
   "cell_type": "markdown",
   "metadata": {},
   "source": [
    "### Some of the relationships we observed in this part of the investigation. \n",
    "> We observed the the relationships between day, time of day and duration of trips for different user types.  \n",
    "\n",
    "### Were there any interesting or surprising interactions between features?\n",
    "\n",
    "> - We saw that customers spends more time on trips than subscribers, specially during weekends where they out triped the subscribers.\n",
    "- Subscribers mainly uses rides for going to work and coming back home."
   ]
  }
 ],
 "metadata": {
  "kernelspec": {
   "display_name": "Python 3",
   "language": "python",
   "name": "python3"
  },
  "language_info": {
   "codemirror_mode": {
    "name": "ipython",
    "version": 3
   },
   "file_extension": ".py",
   "mimetype": "text/x-python",
   "name": "python",
   "nbconvert_exporter": "python",
   "pygments_lexer": "ipython3",
   "version": "3.7.1"
  }
 },
 "nbformat": 4,
 "nbformat_minor": 2
}
